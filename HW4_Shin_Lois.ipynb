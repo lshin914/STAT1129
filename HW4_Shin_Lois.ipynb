{
 "cells": [
  {
   "cell_type": "markdown",
   "id": "a483feb9",
   "metadata": {},
   "source": [
    "## Question 1"
   ]
  },
  {
   "cell_type": "markdown",
   "id": "ee357b13",
   "metadata": {},
   "source": [
    "Create the array with the array function of numpy."
   ]
  },
  {
   "cell_type": "code",
   "execution_count": 45,
   "id": "56ca8c34",
   "metadata": {},
   "outputs": [],
   "source": [
    "import numpy as np"
   ]
  },
  {
   "cell_type": "code",
   "execution_count": 46,
   "id": "a6ebd653",
   "metadata": {},
   "outputs": [
    {
     "data": {
      "text/plain": [
       "array([[ 1,  2,  3,  4],\n",
       "       [ 5,  6,  7,  8],\n",
       "       [ 9, 10, 11, 12]])"
      ]
     },
     "execution_count": 46,
     "metadata": {},
     "output_type": "execute_result"
    }
   ],
   "source": [
    "np.arange(1, 13).reshape(3, 4)"
   ]
  },
  {
   "cell_type": "markdown",
   "id": "f9ee2210",
   "metadata": {},
   "source": [
    "Using the array, multiple the array by 2. Return the dimension and shape of the array."
   ]
  },
  {
   "cell_type": "code",
   "execution_count": 47,
   "id": "32fbaeec",
   "metadata": {},
   "outputs": [
    {
     "data": {
      "text/plain": [
       "array([[ 2,  4,  6,  8],\n",
       "       [10, 12, 14, 16],\n",
       "       [18, 20, 22, 24]])"
      ]
     },
     "execution_count": 47,
     "metadata": {},
     "output_type": "execute_result"
    }
   ],
   "source": [
    "arr = np.arange(1, 13).reshape(3, 4)\n",
    "arr * 2"
   ]
  },
  {
   "cell_type": "code",
   "execution_count": 48,
   "id": "595f1f36",
   "metadata": {},
   "outputs": [
    {
     "data": {
      "text/plain": [
       "2"
      ]
     },
     "execution_count": 48,
     "metadata": {},
     "output_type": "execute_result"
    }
   ],
   "source": [
    "# return dimension \n",
    "arr.ndim"
   ]
  },
  {
   "cell_type": "code",
   "execution_count": 49,
   "id": "ed789217",
   "metadata": {},
   "outputs": [
    {
     "data": {
      "text/plain": [
       "(3, 4)"
      ]
     },
     "execution_count": 49,
     "metadata": {},
     "output_type": "execute_result"
    }
   ],
   "source": [
    "# return shape\n",
    "arr.shape"
   ]
  },
  {
   "cell_type": "markdown",
   "id": "6ef81d1a",
   "metadata": {},
   "source": [
    "Using a nested for loop, print out the array."
   ]
  },
  {
   "cell_type": "code",
   "execution_count": 50,
   "id": "af334899",
   "metadata": {},
   "outputs": [
    {
     "name": "stdout",
     "output_type": "stream",
     "text": [
      "1 2 3 4 \n",
      "5 6 7 8 \n",
      "9 10 11 12 \n"
     ]
    }
   ],
   "source": [
    "arr = np.arange(1, 13).reshape(3, 4)\n",
    "\n",
    "for row in arr:\n",
    "    for column in row:\n",
    "        print(column, end=' ')\n",
    "    print()\n"
   ]
  },
  {
   "cell_type": "markdown",
   "id": "da105ccb",
   "metadata": {},
   "source": [
    "Using flat method, print out the array."
   ]
  },
  {
   "cell_type": "code",
   "execution_count": 51,
   "id": "8d7e7970",
   "metadata": {},
   "outputs": [
    {
     "name": "stdout",
     "output_type": "stream",
     "text": [
      "1 2 3 4 5 6 7 8 9 10 11 12 "
     ]
    }
   ],
   "source": [
    "for i in arr.flat:\n",
    "    print(i, end=' ')"
   ]
  },
  {
   "cell_type": "markdown",
   "id": "062865df",
   "metadata": {},
   "source": [
    "## Question 2"
   ]
  },
  {
   "cell_type": "markdown",
   "id": "7794e6c1",
   "metadata": {},
   "source": [
    "Create x integer array from 1 to 6. Create y integer array from 5 to 10. Using x integer array as x-axis and using y integer array as y-axis, plot a line."
   ]
  },
  {
   "cell_type": "code",
   "execution_count": 52,
   "id": "81c2ac0c",
   "metadata": {},
   "outputs": [
    {
     "data": {
      "image/png": "[encoded data removed]",
      "text/plain": [
       "<Figure size 432x288 with 1 Axes>"
      ]
     },
     "metadata": {
      "needs_background": "light"
     },
     "output_type": "display_data"
    }
   ],
   "source": [
    "import matplotlib \n",
    "import matplotlib.pyplot as plt\n",
    "\n",
    "x = np.array([0, 6]) #x1, x2\n",
    "y = np.array([5, 10]) #y1, y2\n",
    "\n",
    "plt.plot(x, y)\n",
    "plt.show()"
   ]
  },
  {
   "cell_type": "markdown",
   "id": "1cba0129",
   "metadata": {},
   "source": [
    "Draw a line in a diagram from position (3, 2) to (6, 8) then to (9, 1) and finally to position (12, 10). Add markers to all four points."
   ]
  },
  {
   "cell_type": "code",
   "execution_count": 53,
   "id": "58f4a551",
   "metadata": {},
   "outputs": [
    {
     "data": {
      "image/png": "[encoded data removed]",
      "text/plain": [
       "<Figure size 432x288 with 1 Axes>"
      ]
     },
     "metadata": {
      "needs_background": "light"
     },
     "output_type": "display_data"
    }
   ],
   "source": [
    "x = np.array([3, 6, 9, 12])\n",
    "y = np.array([2, 8, 1, 10])\n",
    "\n",
    "plt.plot(x, y, marker = 'D')\n",
    "plt.show()"
   ]
  },
  {
   "cell_type": "markdown",
   "id": "b8b4056d",
   "metadata": {},
   "source": [
    "## Question 3"
   ]
  },
  {
   "cell_type": "markdown",
   "id": "11c5042e",
   "metadata": {},
   "source": [
    "Plot 6 points: (0,2), (1,4), (2, 6), (3, 14), (4, 10), (5, 12). Use a dashed line and red color\n",
    "to draw the line. Marker size is 10 and marker color is green."
   ]
  },
  {
   "cell_type": "code",
   "execution_count": 54,
   "id": "4bef4ad7",
   "metadata": {},
   "outputs": [
    {
     "data": {
      "image/png": "[encoded data removed]",
      "text/plain": [
       "<Figure size 432x288 with 1 Axes>"
      ]
     },
     "metadata": {
      "needs_background": "light"
     },
     "output_type": "display_data"
    }
   ],
   "source": [
    "x = np.array([0, 1, 2, 3, 4, 5])\n",
    "y = np.array([2, 4, 6, 14, 10, 12])\n",
    "\n",
    "plt.plot(x, y, marker = 'D', ms = 10, mfc = 'g', mec = 'g', linestyle = 'dashed', color = 'r')\n",
    "plt.show()"
   ]
  },
  {
   "cell_type": "markdown",
   "id": "fd7827a6",
   "metadata": {},
   "source": [
    "## Question 4"
   ]
  },
  {
   "cell_type": "markdown",
   "id": "1297c91f",
   "metadata": {},
   "source": [
    "Plot a figure with multiple lines, as shown in the following figure."
   ]
  },
  {
   "cell_type": "code",
   "execution_count": 55,
   "id": "24c9bdce",
   "metadata": {},
   "outputs": [
    {
     "data": {
      "image/png": "[encoded data removed]",
      "text/plain": [
       "<Figure size 432x288 with 1 Axes>"
      ]
     },
     "metadata": {
      "needs_background": "light"
     },
     "output_type": "display_data"
    }
   ],
   "source": [
    "x1 = np.array([0, 4])\n",
    "y1 = np.array([1, 5])\n",
    "x2 = np.array([0, 4])\n",
    "y2 = np.array([5, 9])\n",
    "x3 = np.array([0, 4])\n",
    "y3 = np.array([9, 13])\n",
    "\n",
    "plt.plot(x1, y1, x2, y2, x3, y3)\n",
    "plt.xlabel(\"X Label\")\n",
    "plt.ylabel(\"Y Label\")\n",
    "\n",
    "plt.show()"
   ]
  },
  {
   "cell_type": "markdown",
   "id": "63e750c9",
   "metadata": {},
   "source": [
    "## Question 5"
   ]
  },
  {
   "cell_type": "markdown",
   "id": "55aefe2a",
   "metadata": {},
   "source": [
    "Read each student's grade from the marks dictionary.\n",
    "\n",
    "marks = {‘Andy’:88, ‘Amy’:66, 'James': 90, 'Jules': 55, 'Arthur': 77}"
   ]
  },
  {
   "cell_type": "code",
   "execution_count": 56,
   "id": "68002745",
   "metadata": {},
   "outputs": [
    {
     "name": "stdout",
     "output_type": "stream",
     "text": [
      "Andy score is 88\n",
      "Amy score is 66\n",
      "James score is 90\n",
      "Jules score is 55\n",
      "Arthur score is 77\n"
     ]
    }
   ],
   "source": [
    "marks = {'Andy': 88, 'Amy': 66, 'James': 90, 'Jules': 55, 'Arthur': 77}\n",
    "\n",
    "for key, value in marks.items():\n",
    "    print(key, \"score is\", value)"
   ]
  },
  {
   "cell_type": "markdown",
   "id": "2ca2fee1",
   "metadata": {},
   "source": [
    "Plot a bar chart and pie chart for each student's grade. Label student's name at each plot. Add a plot title. Add a legend for the pie chart."
   ]
  },
  {
   "cell_type": "code",
   "execution_count": 57,
   "id": "123402a9",
   "metadata": {},
   "outputs": [
    {
     "data": {
      "image/png": "[encoded data removed]",
      "text/plain": [
       "<Figure size 432x288 with 1 Axes>"
      ]
     },
     "metadata": {
      "needs_background": "light"
     },
     "output_type": "display_data"
    }
   ],
   "source": [
    "x = np.array(['Andy', 'Amy', 'James', 'Jules', 'Arthur'])\n",
    "y = np.array([88, 66, 90, 55, 77])\n",
    "\n",
    "plt.bar(x, y)\n",
    "plt.title(\"Student Marks\")\n",
    "plt.xlabel(\"Student Names\")\n",
    "plt.ylabel(\"Student Scores\")\n",
    "\n",
    "plt.show()"
   ]
  },
  {
   "cell_type": "code",
   "execution_count": 58,
   "id": "a1ecc703",
   "metadata": {},
   "outputs": [
    {
     "data": {
      "image/png": "[encoded data removed]",
      "text/plain": [
       "<Figure size 432x288 with 1 Axes>"
      ]
     },
     "metadata": {},
     "output_type": "display_data"
    }
   ],
   "source": [
    "y = np.array([88, 66, 90, 55, 77])\n",
    "mylabels = ['Andy', 'Amy', 'James', 'Jules', 'Arthur']\n",
    "\n",
    "plt.title(\"Student Marks\")\n",
    "plt.pie(y, labels = names)\n",
    "plt.legend(bbox_to_anchor = (1.05, 1.0), title = 'Legend')\n",
    "\n",
    "plt.show()"
   ]
  },
  {
   "cell_type": "markdown",
   "id": "43671fae",
   "metadata": {},
   "source": [
    "## Question 6"
   ]
  },
  {
   "cell_type": "markdown",
   "id": "856c5dab",
   "metadata": {},
   "source": [
    "Practice subplots() function. Draw a subplot with 2 rows and 3 columns. Add each plot title:\n",
    "\n",
    "One subplot has multiple lines\n",
    "\n",
    "One subplot is a bar chat\n",
    "\n",
    "One subplot is a pie chat\n",
    "\n",
    "One subplot has a grid, you define it yourself\n",
    "\n",
    "One subplot is a scatter plot\n",
    "\n",
    "One subplot is a histogram plot"
   ]
  },
  {
   "cell_type": "code",
   "execution_count": 59,
   "id": "d5b09c79",
   "metadata": {},
   "outputs": [
    {
     "data": {
      "image/png": "[encoded data removed]",
      "text/plain": [
       "<Figure size 432x288 with 6 Axes>"
      ]
     },
     "metadata": {
      "needs_background": "light"
     },
     "output_type": "display_data"
    }
   ],
   "source": [
    "# plot 1, multiple lines\n",
    "x1 = np.array([0, 4])\n",
    "y1 = np.array([1, 5])\n",
    "x2 = np.array([0, 4])\n",
    "y2 = np.array([5, 9])\n",
    "x3 = np.array([0, 4])\n",
    "y3 = np.array([9, 13])\n",
    "\n",
    "plt.subplot(2, 3, 1)\n",
    "plt.plot(x1, y1, x2, y2, x3, y3)\n",
    "plt.title(\"Multiple Lines\")\n",
    "\n",
    "# plot 2, bar chart\n",
    "x = np.array(['1', '2', '3', '4', '5'])\n",
    "y = np.array([1, 2, 3, 4, 4])\n",
    "\n",
    "plt.subplot(2, 3, 2)\n",
    "plt.bar(x, y)\n",
    "plt.title(\"Bar Chart\")\n",
    "plt.plot(x, y)\n",
    "\n",
    "# plot 3, pie chart\n",
    "y = np.array([10, 40, 15, 35])\n",
    "\n",
    "plt.subplot(2, 3, 3)\n",
    "plt.pie(y)\n",
    "plt.title(\"Pie Chart\")\n",
    "\n",
    "# plot 4, has a grid\n",
    "xpoints = np.array([0, 6]) #x1, x2\n",
    "ypoints = np.array([0, 6]) #y1, y2\n",
    "\n",
    "plt.subplot(2, 3, 4)\n",
    "plt.title(\"Grid\")\n",
    "plt.grid()\n",
    "plt.plot(xpoints, ypoints)\n",
    "\n",
    "# plot 5, scatter plot\n",
    "x = np.array([1, 5, 6, 3, 1, 21, 2, 35, 5, 7])\n",
    "y = np.array([5, 6, 3, 5, 7, 2, 3, 5, 5, 78])\n",
    "\n",
    "plt.subplot(2, 3, 5)\n",
    "plt.title(\"Scatterplot\")\n",
    "plt.scatter(x, y)\n",
    "\n",
    "# plot 6, histogram\n",
    "x = np.array(['1', '2', '3', '4'])\n",
    "y = np.array([1, 2, 3, 4])\n",
    "\n",
    "plt.subplot(2, 3, 6)\n",
    "plt.title(\"Histogram\")\n",
    "plt.bar(x, y)\n",
    "\n",
    "plt.show()"
   ]
  }
 ],
 "metadata": {
  "kernelspec": {
   "display_name": "Python 3 (ipykernel)",
   "language": "python",
   "name": "python3"
  },
  "language_info": {
   "codemirror_mode": {
    "name": "ipython",
    "version": 3
   },
   "file_extension": ".py",
   "mimetype": "text/x-python",
   "name": "python",
   "nbconvert_exporter": "python",
   "pygments_lexer": "ipython3",
   "version": "3.9.7"
  }
 },
 "nbformat": 4,
 "nbformat_minor": 5
}
