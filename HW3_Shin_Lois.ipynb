{
 "cells": [
  {
   "cell_type": "markdown",
   "id": "947a7665",
   "metadata": {},
   "source": [
    "## Question 1"
   ]
  },
  {
   "cell_type": "code",
   "execution_count": 1,
   "id": "42167728",
   "metadata": {},
   "outputs": [
    {
     "name": "stdout",
     "output_type": "stream",
     "text": [
      "88\n",
      "Cannot find this student's name.\n"
     ]
    }
   ],
   "source": [
    "marks = {\"Andy\": 88, \"Amy\": 66, \"James\": 90, \"Jules\": 55, \"Arthur\": 77}\n",
    "\n",
    "def student_name(names):\n",
    "    if names == \"Andy\":\n",
    "        print(\"88\")\n",
    "    if names == \"Amy\":\n",
    "        print(\"66\")\n",
    "    if names == \"James\":\n",
    "        print('90')\n",
    "    if names == \"Jules\":\n",
    "        print(\"55\")\n",
    "    if names == \"Arthur\":\n",
    "        print(\"77\")\n",
    "    \n",
    "    if names != \"Andy\":\n",
    "        if names != \"Amy\":\n",
    "            if names != \"James\":\n",
    "                if names != \"Jules\":\n",
    "                    if names != \"Arthur\":\n",
    "                        print (\"Cannot find this student's name.\")\n",
    "    \n",
    "student_name (\"Andy\")\n",
    "student_name (\"Hannah\")"
   ]
  },
  {
   "cell_type": "code",
   "execution_count": 2,
   "id": "8935fd4a",
   "metadata": {},
   "outputs": [
    {
     "data": {
      "text/plain": [
       "75.2"
      ]
     },
     "execution_count": 2,
     "metadata": {},
     "output_type": "execute_result"
    }
   ],
   "source": [
    "marks = {\"Andy\": 88, \"Amy\": 66, \"James\": 90, \"Jules\": 55, \"Arthur\": 77}\n",
    "\n",
    "def avg_scores(grade1, grade2, grade3, grade4, grade5):\n",
    "    return (grade1 + grade2 + grade3 + grade4 + grade5) / 5\n",
    "\n",
    "avg_scores(88, 66, 90, 55, 77)"
   ]
  },
  {
   "cell_type": "markdown",
   "id": "a7c07b06",
   "metadata": {},
   "source": [
    "## Question 2"
   ]
  },
  {
   "cell_type": "code",
   "execution_count": 3,
   "id": "69a35efc",
   "metadata": {},
   "outputs": [
    {
     "name": "stdout",
     "output_type": "stream",
     "text": [
      "8 squared is 64\n",
      "10 is greater than 10\n"
     ]
    }
   ],
   "source": [
    "def square(n):\n",
    "    while n < 10:\n",
    "        print(n, \"squared is\", n**2)\n",
    "        break\n",
    "    if n >= 10:\n",
    "        print(n,\"is greater than\", 10)\n",
    "        \n",
    "square(8)\n",
    "square(10)"
   ]
  },
  {
   "cell_type": "markdown",
   "id": "c09932aa",
   "metadata": {},
   "source": [
    "## Question 3"
   ]
  },
  {
   "cell_type": "code",
   "execution_count": 4,
   "id": "0c23f143",
   "metadata": {},
   "outputs": [
    {
     "data": {
      "text/plain": [
       "55"
      ]
     },
     "execution_count": 4,
     "metadata": {},
     "output_type": "execute_result"
    }
   ],
   "source": [
    "def sum_of_values(n):\n",
    "    total = 0\n",
    "    x = 0\n",
    "    while x <= n:\n",
    "        total = total + x \n",
    "        x+= 1\n",
    "    return total\n",
    "\n",
    "sum_of_values(10)"
   ]
  },
  {
   "cell_type": "markdown",
   "id": "f6afda8b",
   "metadata": {},
   "source": [
    "## Question 4"
   ]
  },
  {
   "cell_type": "code",
   "execution_count": 5,
   "id": "850743b2",
   "metadata": {},
   "outputs": [
    {
     "name": "stdout",
     "output_type": "stream",
     "text": [
      "1\n",
      "3\n",
      "6\n",
      "10\n",
      "15\n",
      "21\n",
      "28\n",
      "36\n",
      "45\n",
      "55\n"
     ]
    }
   ],
   "source": [
    "def sum_of_values(n):\n",
    "    total = 0\n",
    "    x = 0\n",
    "    for x in range(1, n + 1):\n",
    "        x <= n + 1\n",
    "        total = total + x\n",
    "        print(total)\n",
    "        x+= 1\n",
    "    \n",
    "\n",
    "sum_of_values(10)"
   ]
  },
  {
   "cell_type": "markdown",
   "id": "459fa376",
   "metadata": {},
   "source": [
    "## Question 5"
   ]
  },
  {
   "cell_type": "code",
   "execution_count": 9,
   "id": "cd3af490",
   "metadata": {},
   "outputs": [
    {
     "name": "stdout",
     "output_type": "stream",
     "text": [
      "50\n",
      "4950\n",
      "28.577380332470412\n"
     ]
    }
   ],
   "source": [
    "import math\n",
    "import statistics as stats\n",
    "\n",
    "nums = list(range(1, 100, 1)) \n",
    "def calculations (items):\n",
    "    print(stats.mean(nums))\n",
    "    print(sum(nums))\n",
    "    print(stats.pstdev(nums))\n",
    "    \n",
    "calculations(nums)"
   ]
  },
  {
   "cell_type": "markdown",
   "id": "9a9a1471",
   "metadata": {},
   "source": [
    "## Question 6"
   ]
  },
  {
   "cell_type": "code",
   "execution_count": 7,
   "id": "01d6cc02",
   "metadata": {},
   "outputs": [
    {
     "data": {
      "text/plain": [
       "1"
      ]
     },
     "execution_count": 7,
     "metadata": {},
     "output_type": "execute_result"
    }
   ],
   "source": [
    "def minimum(value1, value2, value3, value4):\n",
    "    min_value = value1\n",
    "    if value2 < min_value:\n",
    "        min_value = value2\n",
    "    if value3 < min_value:\n",
    "        min_value = value3\n",
    "    if value4 < min_value:\n",
    "        min_value = value4\n",
    "    return min_value\n",
    "\n",
    "minimum(1, 7, 98, 2)"
   ]
  },
  {
   "cell_type": "code",
   "execution_count": 10,
   "id": "be0882b6",
   "metadata": {},
   "outputs": [
    {
     "name": "stdout",
     "output_type": "stream",
     "text": [
      "-90\n"
     ]
    },
    {
     "data": {
      "text/plain": [
       "-90"
      ]
     },
     "execution_count": 10,
     "metadata": {},
     "output_type": "execute_result"
    }
   ],
   "source": [
    "x = [-90, 3, -56, 87]\n",
    "\n",
    "def my_minimum(numbers):\n",
    "    low = numbers[0] \n",
    "    for i in numbers:\n",
    "        if i < low:\n",
    "            low = i\n",
    "    return low\n",
    "\n",
    "print (my_minimum(x))\n",
    "\n",
    "#calling previous minimum function to return minimal value\n",
    "minimum(-90, 3, -56, 87)"
   ]
  }
 ],
 "metadata": {
  "kernelspec": {
   "display_name": "Python 3 (ipykernel)",
   "language": "python",
   "name": "python3"
  },
  "language_info": {
   "codemirror_mode": {
    "name": "ipython",
    "version": 3
   },
   "file_extension": ".py",
   "mimetype": "text/x-python",
   "name": "python",
   "nbconvert_exporter": "python",
   "pygments_lexer": "ipython3",
   "version": "3.9.7"
  }
 },
 "nbformat": 4,
 "nbformat_minor": 5
}
